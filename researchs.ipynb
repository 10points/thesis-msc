{
 "cells": [
  {
   "cell_type": "code",
   "execution_count": 19,
   "metadata": {},
   "outputs": [],
   "source": [
    "from surprise import Reader\n",
    "from trustreader import TrustReader\n",
    "from trustdataset import CustomDataset\n",
    "import pandas as pd\n",
    "from splits import custom_train_test_split\n",
    "from models import TrustSVD"
   ]
  },
  {
   "cell_type": "code",
   "execution_count": 20,
   "metadata": {},
   "outputs": [],
   "source": [
    "# import dataset\n",
    "ratings_path = \"./datasets/filmtrust/ratings.txt\" \n",
    "trust_path = \"./datasets/filmtrust/trust.txt\" "
   ]
  },
  {
   "cell_type": "code",
   "execution_count": 21,
   "metadata": {},
   "outputs": [],
   "source": [
    "ratings = pd.read_csv(ratings_path,\n",
    "                 sep=\" \",\n",
    "                 header=None,\n",
    "                 names=[\"uid\", \"iid\", \"rating\"])\n",
    "\n",
    "trust = pd.read_csv(trust_path,\n",
    "                       sep=\" \",\n",
    "                       header=None,\n",
    "                       names=[\"trustor\", \"trustee\", \"trust\"])"
   ]
  },
  {
   "cell_type": "code",
   "execution_count": 22,
   "metadata": {},
   "outputs": [],
   "source": [
    "reader = Reader(rating_scale=(1,5))\n",
    "trust_reader = TrustReader(trust_scale=(0,1))\n",
    "dataset = CustomDataset.load_from_dataframe(df=ratings,\n",
    "                                            df_trust=trust,\n",
    "                                            reader=reader,\n",
    "                                            trust_reader=trust_reader)"
   ]
  },
  {
   "cell_type": "code",
   "execution_count": 23,
   "metadata": {},
   "outputs": [],
   "source": [
    "trainset, testset = custom_train_test_split(dataset, test_size=0.2)"
   ]
  },
  {
   "cell_type": "code",
   "execution_count": 24,
   "metadata": {},
   "outputs": [
    {
     "data": {
      "text/plain": [
       "range(0, 1475)"
      ]
     },
     "execution_count": 24,
     "metadata": {},
     "output_type": "execute_result"
    }
   ],
   "source": [
    "trainset.all_users()"
   ]
  },
  {
   "cell_type": "code",
   "execution_count": 25,
   "metadata": {},
   "outputs": [
    {
     "ename": "NameError",
     "evalue": "name 'get_rng' is not defined",
     "output_type": "error",
     "traceback": [
      "\u001b[0;31m---------------------------------------------------------------------------\u001b[0m",
      "\u001b[0;31mNameError\u001b[0m                                 Traceback (most recent call last)",
      "Cell \u001b[0;32mIn[25], line 2\u001b[0m\n\u001b[1;32m      1\u001b[0m trustsvd_model \u001b[38;5;241m=\u001b[39m TrustSVD(n_epochs\u001b[38;5;241m=\u001b[39m\u001b[38;5;241m10\u001b[39m, lr_all\u001b[38;5;241m=\u001b[39m\u001b[38;5;241m0.007\u001b[39m, reg\u001b[38;5;241m=\u001b[39m\u001b[38;5;241m0.4\u001b[39m, reg_t\u001b[38;5;241m=\u001b[39m\u001b[38;5;241m0.4\u001b[39m)\n\u001b[0;32m----> 2\u001b[0m \u001b[43mtrustsvd_model\u001b[49m\u001b[38;5;241;43m.\u001b[39;49m\u001b[43mfit\u001b[49m\u001b[43m(\u001b[49m\u001b[43mtrainset\u001b[49m\u001b[43m)\u001b[49m\n",
      "File \u001b[0;32m~/thesis-msc/models.py:36\u001b[0m, in \u001b[0;36mTrustSVD.fit\u001b[0;34m(self, trainset)\u001b[0m\n\u001b[1;32m     34\u001b[0m \u001b[39mdef\u001b[39;00m \u001b[39mfit\u001b[39m(\u001b[39mself\u001b[39m, trainset):\n\u001b[1;32m     35\u001b[0m     AlgoBase\u001b[39m.\u001b[39mfit(\u001b[39mself\u001b[39m, trainset)\n\u001b[0;32m---> 36\u001b[0m     \u001b[39mself\u001b[39;49m\u001b[39m.\u001b[39;49msgd(trainset)\n",
      "File \u001b[0;32m~/thesis-msc/models.py:40\u001b[0m, in \u001b[0;36mTrustSVD.sgd\u001b[0;34m(self, trainset)\u001b[0m\n\u001b[1;32m     38\u001b[0m \u001b[39mdef\u001b[39;00m \u001b[39msgd\u001b[39m(\u001b[39mself\u001b[39m, trainset):\n\u001b[0;32m---> 40\u001b[0m     rng \u001b[39m=\u001b[39m get_rng(\u001b[39mself\u001b[39m\u001b[39m.\u001b[39mrandom_state)\n\u001b[1;32m     42\u001b[0m     \u001b[39m# user biases\u001b[39;00m\n\u001b[1;32m     43\u001b[0m     bu \u001b[39m=\u001b[39m np\u001b[39m.\u001b[39mzeros(trainset\u001b[39m.\u001b[39mn_users, dtype\u001b[39m=\u001b[39mnp\u001b[39m.\u001b[39mfloat64)\n",
      "\u001b[0;31mNameError\u001b[0m: name 'get_rng' is not defined"
     ]
    }
   ],
   "source": [
    "trustsvd_model = TrustSVD(n_epochs=10, lr_all=0.007, reg=0.4, reg_t=0.4)\n",
    "trustsvd_model.fit(trainset)"
   ]
  },
  {
   "cell_type": "code",
   "execution_count": null,
   "metadata": {},
   "outputs": [],
   "source": []
  }
 ],
 "metadata": {
  "kernelspec": {
   "display_name": "Python 3.9.13 ('recsysEnv': venv)",
   "language": "python",
   "name": "python3"
  },
  "language_info": {
   "codemirror_mode": {
    "name": "ipython",
    "version": 3
   },
   "file_extension": ".py",
   "mimetype": "text/x-python",
   "name": "python",
   "nbconvert_exporter": "python",
   "pygments_lexer": "ipython3",
   "version": "3.9.13"
  },
  "orig_nbformat": 4,
  "vscode": {
   "interpreter": {
    "hash": "dbef5c9e691ad989ba7a482ed204562bb29329dedec3b47c3d89813ffe5098ef"
   }
  }
 },
 "nbformat": 4,
 "nbformat_minor": 2
}
